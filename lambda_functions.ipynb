{
  "nbformat": 4,
  "nbformat_minor": 0,
  "metadata": {
    "colab": {
      "provenance": [],
      "authorship_tag": "ABX9TyO/GBqvguV/auxVR/BRlIKX",
      "include_colab_link": true
    },
    "kernelspec": {
      "name": "python3",
      "display_name": "Python 3"
    },
    "language_info": {
      "name": "python"
    }
  },
  "cells": [
    {
      "cell_type": "markdown",
      "metadata": {
        "id": "view-in-github",
        "colab_type": "text"
      },
      "source": [
        "<a href=\"https://colab.research.google.com/github/carloslme/pandas/blob/main/lambda_functions.ipynb\" target=\"_parent\"><img src=\"https://colab.research.google.com/assets/colab-badge.svg\" alt=\"Open In Colab\"/></a>"
      ]
    },
    {
      "cell_type": "markdown",
      "source": [
        "## Syntax\n",
        "lambda *arguments* : *expression*"
      ],
      "metadata": {
        "id": "9s7RhI9KyxFy"
      }
    },
    {
      "cell_type": "code",
      "execution_count": 1,
      "metadata": {
        "colab": {
          "base_uri": "https://localhost:8080/"
        },
        "id": "-7jdKoSdysqX",
        "outputId": "5926fa70-29fd-4837-c44d-26e2a3256158"
      },
      "outputs": [
        {
          "output_type": "stream",
          "name": "stdout",
          "text": [
            "15\n"
          ]
        }
      ],
      "source": [
        "x = lambda a : a + 10\n",
        "print(x(5))"
      ]
    },
    {
      "cell_type": "code",
      "source": [
        "x = lambda a, b : a * b\n",
        "print(x(2,3))"
      ],
      "metadata": {
        "colab": {
          "base_uri": "https://localhost:8080/"
        },
        "id": "ypjeAdyqy70u",
        "outputId": "97887772-4e2a-45e3-cc29-019de1307ab1"
      },
      "execution_count": 2,
      "outputs": [
        {
          "output_type": "stream",
          "name": "stdout",
          "text": [
            "6\n"
          ]
        }
      ]
    },
    {
      "cell_type": "code",
      "source": [
        "# can add more arguments that are not going\n",
        "# to be used, but is not a good practice\n",
        "x = lambda a, b, c : a + b\n",
        "print(x(1,2,3))"
      ],
      "metadata": {
        "colab": {
          "base_uri": "https://localhost:8080/"
        },
        "id": "0Qi657TPzEg3",
        "outputId": "be8bf987-e3b1-4f82-8b15-0d84b9bdf026"
      },
      "execution_count": 4,
      "outputs": [
        {
          "output_type": "stream",
          "name": "stdout",
          "text": [
            "3\n"
          ]
        }
      ]
    },
    {
      "cell_type": "markdown",
      "source": [
        "**Use lambda functions when an anonymous function is required for a short period of time.**"
      ],
      "metadata": {
        "id": "zMxsdIQLz1J9"
      }
    },
    {
      "cell_type": "code",
      "source": [],
      "metadata": {
        "id": "P5DzrwY7znSW"
      },
      "execution_count": null,
      "outputs": []
    }
  ]
}